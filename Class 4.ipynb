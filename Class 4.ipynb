{
 "cells": [
  {
   "cell_type": "markdown",
   "id": "4a2dd533-cee0-4dd0-ab0a-9076c7eec798",
   "metadata": {},
   "source": [
    "# Doubly Linked Lists"
   ]
  },
  {
   "cell_type": "code",
   "execution_count": null,
   "id": "20123d25-daf9-4ffe-9b51-c1ba21b44290",
   "metadata": {},
   "outputs": [],
   "source": [
    "# From scratch implementation of DLL\n",
    "\n",
    "class DoublyLinkedList:\n",
    "    class __Node:\n",
    "        def __init__(self, data):\n",
    "            self.data = data\n",
    "            self.next = None\n",
    "            self.prev = None\n",
    "\n",
    "    def __init__(self):\n",
    "        self.head = None\n",
    "        self.tail = None\n",
    "\n",
    "    def append(self, value):\n",
    "        new_node = self.__Node(value)\n",
    "        if not self.head:\n",
    "            self.head = new_node\n",
    "            self.tail = new_node\n",
    "        else:\n",
    "            self.tail.next = new_node\n",
    "            new_node.prev = self.tail\n",
    "            self.tail = new_node\n",
    "\n",
    "    def prepend(self, value):\n",
    "        new_node = self.__Node(value)\n",
    "        if not self.head\n",
    "            self.head = new_node\n",
    "            self.tail = new_node\n",
    "        else:\n",
    "            new_node.next = self.head\n",
    "            self.head.prev = new_node\n",
    "            self.head = new_node\n",
    "    \n",
    "    def insert(self, index, value):\n",
    "        # The insert operation should allow us to create a new node before the target value\n",
    "        # More details: Insert allows you to prepend, append, and insert anywhere between the head and the tail of the list\n",
    "        pass\n",
    "\n",
    "    def remove(self, value):\n",
    "        pass\n",
    "\n",
    "    def index(self, value):\n",
    "        # returns index of first match to value\n",
    "        pass\n",
    "\n",
    "    def __getitem__(self, index):\n",
    "        pass\n",
    "\n",
    "    def __setitem__(self, index, value):\n",
    "        pass\n",
    "\n",
    "    def __str__(self):\n",
    "        return \"\" # pass\n",
    "            "
   ]
  }
 ],
 "metadata": {
  "kernelspec": {
   "display_name": "Python 3 (ipykernel)",
   "language": "python",
   "name": "python3"
  },
  "language_info": {
   "codemirror_mode": {
    "name": "ipython",
    "version": 3
   },
   "file_extension": ".py",
   "mimetype": "text/x-python",
   "name": "python",
   "nbconvert_exporter": "python",
   "pygments_lexer": "ipython3",
   "version": "3.10.12"
  }
 },
 "nbformat": 4,
 "nbformat_minor": 5
}
