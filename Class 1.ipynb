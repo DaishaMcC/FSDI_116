{
 "cells": [
  {
   "cell_type": "code",
   "execution_count": 1,
   "id": "2756dca4-dcc9-4b2b-8b7e-009d27638ed1",
   "metadata": {},
   "outputs": [
    {
     "name": "stdout",
     "output_type": "stream",
     "text": [
      "h\n",
      "e\n",
      "l\n",
      "l\n",
      "o\n",
      ",\n",
      " \n",
      "w\n",
      "o\n",
      "r\n",
      "l\n",
      "d\n"
     ]
    }
   ],
   "source": [
    "for char in \"hello, world\":\n",
    "    print(char)\n",
    "\n",
    "# when you finish typing this, press shift+enter"
   ]
  },
  {
   "cell_type": "markdown",
   "id": "228868c8-da1f-4931-8c5d-bc9ee4f2d0f7",
   "metadata": {},
   "source": [
    "# Problem 1\n",
    "## Anagram Checker\n",
    "Create a function that takes two strings as parameters and returns True if these are anagrams of each other, False otherwise.\n",
    "\n",
    "## What are anagrams?\n",
    "Two strings are said to be anagrams if all the criteria below are met:\n",
    "1. They must be of equal number of letters.\n",
    "2. They must use the same letters the same amout of time\n",
    "\n",
    "## Examples\n",
    "```\n",
    "heart and earth\n",
    "cars and scar\n",
    "star and rats\n",
    "aab and aba\n",
    "```\n",
    "\n",
    "## Note\n",
    "The examples above are not the only possible combinations.  Read the problem statement carefully!\n"
   ]
  },
  {
   "cell_type": "code",
   "execution_count": 2,
   "id": "520e1b01-cddc-4d16-8499-d70469545e40",
   "metadata": {},
   "outputs": [],
   "source": [
    "# In the popular Harry Potter saga the villian name Voldemort, is chosen because because it is an anagram of their human name.\n",
    "\n",
    "# Thus, the phase \"I am Lord Voldemort\" is an anagram of \"Tom Marvolo Riddle\""
   ]
  },
  {
   "cell_type": "code",
   "execution_count": 3,
   "id": "4da3b3c3-ebb2-4a30-9ed7-0c2a2c067ca2",
   "metadata": {},
   "outputs": [],
   "source": [
    "# Don't do this, this is a horrible way to approach a problem statement:\n",
    "def anagram_check(str1, str2):\n",
    "    return sorted(str1) == sorted(str2)"
   ]
  },
  {
   "cell_type": "code",
   "execution_count": 4,
   "id": "62ae508d-512f-4088-b76c-e68c5825f172",
   "metadata": {},
   "outputs": [
    {
     "name": "stdout",
     "output_type": "stream",
     "text": [
      "heart and earth are anagrams: True\n",
      "cars and scar are anagrams: True\n",
      "star and rats are anagrams: True\n",
      "aab and aba are anagrams: True\n",
      "Tom Marvolo Riddle and I am Lord Voldemort are anagrams: False\n"
     ]
    }
   ],
   "source": [
    "test_cases = [\n",
    "    (\"heart\", \"earth\"),\n",
    "    (\"cars\", \"scar\"),\n",
    "    (\"star\", \"rats\"),\n",
    "    (\"aab\", \"aba\"),\n",
    "    (\"Tom Marvolo Riddle\", \"I am Lord Voldemort\") \n",
    "]\n",
    "\n",
    "for str1, str2 in test_cases:\n",
    "    print(\"%s and %s are anagrams: %s\" % (str1, str2, anagram_check(str1, str2)\n",
    "                                         ))"
   ]
  },
  {
   "cell_type": "code",
   "execution_count": 6,
   "id": "8433062f-79f7-44e1-a8c5-f60bb7723b46",
   "metadata": {},
   "outputs": [
    {
     "name": "stdout",
     "output_type": "stream",
     "text": [
      "65\n",
      "a\n"
     ]
    }
   ],
   "source": [
    "myletter = \"A\"\n",
    "print(ord(myletter))\n",
    "\n",
    "myletter = ord(myletter) + 32\n",
    "print(chr(myletter))\n"
   ]
  },
  {
   "cell_type": "code",
   "execution_count": 7,
   "id": "9d16f533-c882-4272-a184-114ddfc1b5ab",
   "metadata": {},
   "outputs": [],
   "source": [
    "# Anagram check\n",
    "\n",
    "# Define function \"anagram_check\" with str1 and str2 as parameters:\n",
    "#    str1 = str1 without spaces and lower case\n",
    "#    str2 = str2 without spaces and lower cases\n",
    "#    if the length of str1 is not equal to the length of str2:\n",
    "#       return False\n",
    "#    dict1 = new dictionary\n",
    "#    dict2 = new dictionary\n",
    "#    for each number in the range from 0 to the length of str1:\n",
    "#        if the character at position \"number\" in str1 is not in dict1:\n",
    "#            create a new entry in dict1 with that letter as the key and its value set to 1 # Indicating: I've seen it at least once\n",
    "#         otherwise:\n",
    "#             add 1 to the value associated with the letter's entry is dict1\n",
    "#         if the characte at position \"number\" in str2 is not in dict2:\n",
    "#              create a new entry in dict2 with that letter as the key and its value set as 1\n",
    "#          otherwise:\n",
    "#               add 1 to the value associated with the letter's entry in dict2\n",
    "#      \n",
    "#    endfor\n",
    "#    if dict1 is equal to dict2:\n",
    "#        return True\n",
    "#     otherwise:\n",
    "#         return False\n",
    "            "
   ]
  },
  {
   "cell_type": "code",
   "execution_count": 12,
   "id": "a3760f26-5a15-4664-b7ee-baa1b3d6be08",
   "metadata": {},
   "outputs": [],
   "source": [
    "def anagram_check(str1, str2):\n",
    "    str1 = str1.replace(\" \",\"\").lower()\n",
    "    str2 = str2.replace(\" \",\"\").lower()\n",
    "\n",
    "    if len(str1) == (str2):\n",
    "        return False\n",
    "\n",
    "    dict1 = {\n",
    "        \n",
    "    }\n",
    "    dict2 = {\n",
    "        \n",
    "    }  \n",
    "    for number in range(len(str1)):\n",
    "        char = str1[number]\n",
    "        if char not in dict1:\n",
    "            dict1[char] = 1\n",
    "        else:\n",
    "            dict1[char] += 1\n",
    "\n",
    "        if char not in dict2:\n",
    "            dict2[char] = 1\n",
    "        else:\n",
    "            dict2[char] += 1\n",
    "    if dict1 == dict2:\n",
    "        return True\n",
    "    else:\n",
    "        return False"
   ]
  },
  {
   "cell_type": "code",
   "execution_count": 13,
   "id": "cf4a34e8-23bd-4038-8aba-e038b988faa2",
   "metadata": {},
   "outputs": [
    {
     "data": {
      "text/plain": [
       "True"
      ]
     },
     "execution_count": 13,
     "metadata": {},
     "output_type": "execute_result"
    }
   ],
   "source": [
    "anagram_check(\"Tom Marvolo Riddle\", \"I am Lord Voldemort\")"
   ]
  },
  {
   "cell_type": "code",
   "execution_count": 14,
   "id": "c2f0836c-5491-41b8-a221-e42ffdd43a11",
   "metadata": {},
   "outputs": [
    {
     "data": {
      "text/plain": [
       "True"
      ]
     },
     "execution_count": 14,
     "metadata": {},
     "output_type": "execute_result"
    }
   ],
   "source": [
    "anagram_check(\"heart\", \"earth\")"
   ]
  },
  {
   "cell_type": "code",
   "execution_count": 15,
   "id": "e121133f-0e61-44ca-8808-33bc0b1685d6",
   "metadata": {},
   "outputs": [
    {
     "data": {
      "text/plain": [
       "True"
      ]
     },
     "execution_count": 15,
     "metadata": {},
     "output_type": "execute_result"
    }
   ],
   "source": [
    "anagram_check(\"star\", \"rats\")"
   ]
  },
  {
   "cell_type": "code",
   "execution_count": 16,
   "id": "7f176c3e-3480-4101-864f-8dbab5a64728",
   "metadata": {},
   "outputs": [
    {
     "data": {
      "text/plain": [
       "True"
      ]
     },
     "execution_count": 16,
     "metadata": {},
     "output_type": "execute_result"
    }
   ],
   "source": [
    "anagram_check(\"aab\", \"aba\")"
   ]
  },
  {
   "cell_type": "code",
   "execution_count": null,
   "id": "46f7a257-58b6-4e9e-a065-2a731b8ad422",
   "metadata": {},
   "outputs": [],
   "source": []
  }
 ],
 "metadata": {
  "kernelspec": {
   "display_name": "Python 3 (ipykernel)",
   "language": "python",
   "name": "python3"
  },
  "language_info": {
   "codemirror_mode": {
    "name": "ipython",
    "version": 3
   },
   "file_extension": ".py",
   "mimetype": "text/x-python",
   "name": "python",
   "nbconvert_exporter": "python",
   "pygments_lexer": "ipython3",
   "version": "3.10.12"
  }
 },
 "nbformat": 4,
 "nbformat_minor": 5
}
